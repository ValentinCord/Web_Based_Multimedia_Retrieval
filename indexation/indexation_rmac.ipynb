{
  "cells": [
    {
      "cell_type": "markdown",
      "metadata": {
        "id": "L0ppEtwrxI9H"
      },
      "source": [
        "# **Import**\n",
        "\n",
        "---\n",
        "\n"
      ]
    },
    {
      "cell_type": "code",
      "execution_count": 12,
      "metadata": {
        "id": "OPi8yfl5xFEu"
      },
      "outputs": [],
      "source": [
        "import numpy as np \n",
        "import os\n",
        "import shutil\n",
        "import math\n",
        "import cv2\n",
        "import tensorflow as tf\n",
        "import json \n",
        "import matplotlib.pyplot as plt\n",
        "import pandas as pd\n",
        "import random as rd\n",
        "import pickle as pk\n",
        "\n",
        "import time\n",
        "\n",
        "from tensorflow.keras.models import Model\n",
        "from tensorflow.keras.layers import Dense, Lambda\n",
        "\n",
        "# load the pretrained network from Keras Applications\n",
        "from keras_preprocessing.image import load_img\n",
        "from keras_preprocessing.image import img_to_array\n",
        "from keras.applications.vgg16 import VGG16, preprocess_input #224*224\n",
        "from keras.applications.xception import Xception, preprocess_input, decode_predictions #299*299\n",
        "from keras.applications.mobilenet import MobileNet, preprocess_input, decode_predictions #224*224\n",
        "\n",
        "from tqdm import tqdm"
      ]
    },
    {
      "cell_type": "markdown",
      "metadata": {
        "id": "neUEZtQ6xPkD"
      },
      "source": [
        "# **Database download**\n",
        "\n",
        "---\n",
        "\n"
      ]
    },
    {
      "cell_type": "code",
      "execution_count": null,
      "metadata": {
        "id": "OnnyPybUxVMW"
      },
      "outputs": [],
      "source": [
        "!rm -rf MIR_DATASETS_B\n",
        "!wget https://github.com/sidimahmoudi/facenet_tf2/releases/download/AI_MIR_CLOUD/MIR_DATASETS_B.zip \n",
        "!unzip -q /content/MIR_DATASETS_B.zip\n",
        "!rm MIR_DATASETS_B.zip"
      ]
    },
    {
      "cell_type": "markdown",
      "metadata": {
        "id": "vahLu-ysxY96"
      },
      "source": [
        "# **Database preprocess**\n",
        "\n",
        "---\n",
        "\n"
      ]
    },
    {
      "cell_type": "code",
      "execution_count": 3,
      "metadata": {
        "id": "Lnonhbc8xdpE"
      },
      "outputs": [],
      "source": [
        "for animal in os.listdir('MIR_DATASETS_B'):\n",
        "  for type_animal in os.listdir(os.path.join('MIR_DATASETS_B', animal)):\n",
        "    for file in os.listdir(os.path.join('MIR_DATASETS_B', animal, type_animal)):\n",
        "      shutil.copy2(os.path.join('MIR_DATASETS_B', animal, type_animal, file), os.path.join('MIR_DATASETS_B'))"
      ]
    },
    {
      "cell_type": "markdown",
      "metadata": {
        "id": "WZ0jtjDFxrq-"
      },
      "source": [
        "# **RMAC Layer**\n",
        "\n",
        "---\n",
        "\n"
      ]
    },
    {
      "cell_type": "code",
      "execution_count": 4,
      "metadata": {
        "id": "OPYaCnItxwtr"
      },
      "outputs": [],
      "source": [
        "# from  https://github.com/v-v/RMAC-TensorFlow-2\n",
        "\n",
        "class RMAC:\n",
        "    def __init__(self, shape, levels=3, power=None, overlap=0.4, norm_fm=False, sum_fm=True, verbose=False):\n",
        "        self.shape = shape\n",
        "        self.sum_fm = sum_fm\n",
        "        self.norm = norm_fm\n",
        "        self.power = power\n",
        "\n",
        "        # ported from Giorgios' Matlab code\n",
        "        steps = np.asarray([2, 3, 4, 5, 6, 7])\n",
        "        B, H, W, D = shape\n",
        "        w = min([W, H])\n",
        "        w2 = w // 2 - 1\n",
        "        b = np.asarray((max(H, W) - w)) / (steps - 1);\n",
        "        idx = np.argmin(np.abs(((w**2 - w*b)/(w**2))-overlap))\n",
        "\n",
        "        Wd = 0\n",
        "        Hd = 0\n",
        "        if H < W:\n",
        "            Wd = idx + 1\n",
        "        elif H > W:\n",
        "            Hd = idx + 1\n",
        "\n",
        "        self.regions = []\n",
        "        for l in range(levels):\n",
        "\n",
        "            wl = int(2 * w/(l+2));\n",
        "            wl2 = int(wl / 2 - 1);\n",
        "\n",
        "            b = 0 if not (l + Wd) else ((W - wl) / (l + Wd))\n",
        "            cenW = np.asarray(np.floor(wl2 + np.asarray(range(l+Wd+1)) * b), dtype=np.int32) - wl2\n",
        "            b = 0 if not (l + Hd) else ((H - wl) / (l + Hd))\n",
        "            cenH = np.asarray(np.floor(wl2 + np.asarray(range(l+Hd+1)) * b), dtype=np.int32) - wl2\n",
        "\n",
        "            for i in cenH:\n",
        "                for j in cenW:\n",
        "                    if i >= W or j >= H:\n",
        "                        continue\n",
        "                    ie = i+wl\n",
        "                    je = j+wl\n",
        "                    if ie >= W:\n",
        "                        ie = W\n",
        "                    if je >= H:\n",
        "                        je = H\n",
        "                    if ie - i < 1 or je - j < 1:\n",
        "                        continue\n",
        "                    self.regions.append((i,j,ie,je))\n",
        "\n",
        "        if verbose:\n",
        "            print('RMAC regions = %s' % self.regions)\n",
        "\n",
        "    def rmac(self, x):\n",
        "        y = []\n",
        "        for r in self.regions:\n",
        "            x_sliced = x[:, r[1]:r[3], r[0]:r[2], :]\n",
        "            if self.power is None:\n",
        "                x_maxed = tf.reduce_max(x_sliced, axis=(1,2))\n",
        "            else:\n",
        "                x_maxed = tf.reduce_mean((x_sliced ** self.power), axis=(2,3)) ** (1.0 / self.power)\n",
        "                x_maxed = tf.pow(tf.reduce_mean((tf.pow(x_sliced, self.power)), axis=(2,3)),(1.0 / self.power))\n",
        "            y.append(x_maxed)\n",
        "\n",
        "        y = tf.stack(y, axis=0)\n",
        "        y = tf.transpose(y, [1,0,2])\n",
        "\n",
        "        if self.norm:\n",
        "            y = tf.math.l2_normalize(y, 2)\n",
        "\n",
        "\n",
        "        if self.sum_fm:\n",
        "            y = tf.reduce_mean(y, axis=(1))\n",
        "\n",
        "        return y"
      ]
    },
    {
      "cell_type": "markdown",
      "metadata": {
        "id": "dWFxW49JyIn8"
      },
      "source": [
        "# **RMAC indexation**\n",
        "\n",
        "---\n",
        "\n"
      ]
    },
    {
      "cell_type": "code",
      "execution_count": 16,
      "metadata": {
        "id": "HNzW-JFUxFEx"
      },
      "outputs": [],
      "source": [
        "def rmac(folder, base_model, layer, input_dim):\n",
        "    \n",
        "    data = list()\n",
        "\n",
        "    base_out = base_model.get_layer(layer).output\n",
        "    rmac = RMAC(base_out.shape, levels=5, norm_fm=True, sum_fm=True)    \n",
        "    rmac_layer = Lambda(rmac.rmac, input_shape=base_model.output_shape, name=\"rmac_\"+layer)\n",
        "    out = rmac_layer(base_out)\n",
        "    model = Model(base_model.input, out)\n",
        "\n",
        "    for path in tqdm(os.listdir(folder)):\n",
        "      if '.jpg' in path:\n",
        "        filename = os.path.join(folder, path)\n",
        "        image = load_img(filename, target_size=(input_dim, input_dim))\n",
        "        image = img_to_array(image)\n",
        "        image = image.reshape((1, image.shape[0], image.shape[1], image.shape[2]))\n",
        "        image = preprocess_input(image)\n",
        "        if image is not None:\n",
        "            feature = model.predict(image)\n",
        "            feature = np.array(feature[0])\n",
        "            num_image, _ = path.split(\".\")\n",
        "            data.append({num_image : feature})\n",
        "    return data\n",
        "\n",
        "def save(data, file_name):\n",
        "    with open(file_name, 'w') as f:\n",
        "        json.dump(data, f, cls = JsonCustomEncoder)\n",
        "\n",
        "class JsonCustomEncoder(json.JSONEncoder):\n",
        "    def default(self, obj):\n",
        "        if isinstance(obj, (np.ndarray, np.number)):\n",
        "            return obj.tolist()\n",
        "        return json.JSONEncoder.default(self, obj)"
      ]
    },
    {
      "cell_type": "code",
      "execution_count": null,
      "metadata": {
        "colab": {
          "base_uri": "https://localhost:8080/"
        },
        "id": "DZ_acgIsyRZe",
        "outputId": "2c0ac9e5-775f-4e90-db59-14b6fc5d3a89"
      },
      "outputs": [],
      "source": [
        "base_model = Xception(include_top = False, weights ='imagenet', input_shape = (299, 299, 3), pooling = 'avg')\n",
        "data = rmac('MIR_DATASETS_B/', base_model, 'block14_sepconv2', 299)\n",
        "save(data, 'XCEPTION_false_rmac.json')\n",
        "\n",
        "base_model = Xception(include_top = True, weights ='imagenet', input_shape = (299, 299, 3), pooling = 'avg')\n",
        "data = rmac('MIR_DATASETS_B/', base_model, 'block14_sepconv2', 299)\n",
        "save(data, 'XCEPTION_true_rmac.json')\n",
        "\n",
        "base_model = VGG16(include_top = False, weights ='imagenet', input_shape = (224, 224, 3), pooling = 'avg')\n",
        "data = rmac('MIR_DATASETS_B/', base_model, 'block5_conv3', 224)\n",
        "save(data, 'VGG16_false_rmac.json')\n",
        "\n",
        "base_model = MobileNet(include_top = False, weights ='imagenet', input_shape = (224, 224, 3), pooling = 'avg')\n",
        "data = rmac('MIR_DATASETS_B/', base_model, 'conv_pw_13', 224)\n",
        "save(data, 'MOBILENET_false_rmac.json')"
      ]
    }
  ],
  "metadata": {
    "accelerator": "GPU",
    "colab": {
      "provenance": []
    },
    "gpuClass": "standard",
    "kernelspec": {
      "display_name": "env",
      "language": "python",
      "name": "python3"
    },
    "language_info": {
      "name": "python",
      "version": "3.10.6 (main, Nov 14 2022, 16:10:14) [GCC 11.3.0]"
    },
    "orig_nbformat": 4,
    "vscode": {
      "interpreter": {
        "hash": "c4981c284bbb39c2a23436697d7c35c93923ac1f7e5eb9a1ba9ec845d3dcf5ee"
      }
    }
  },
  "nbformat": 4,
  "nbformat_minor": 0
}
